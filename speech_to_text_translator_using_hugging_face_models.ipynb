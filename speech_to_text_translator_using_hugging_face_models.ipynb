{
  "nbformat": 4,
  "nbformat_minor": 0,
  "metadata": {
    "colab": {
      "provenance": [],
      "authorship_tag": "ABX9TyOztu3uQgOPC7Ak0upD6adO",
      "include_colab_link": true
    },
    "kernelspec": {
      "name": "python3",
      "display_name": "Python 3"
    },
    "language_info": {
      "name": "python"
    }
  },
  "cells": [
    {
      "cell_type": "markdown",
      "metadata": {
        "id": "view-in-github",
        "colab_type": "text"
      },
      "source": [
        "<a href=\"https://colab.research.google.com/github/Chow125/ml-projects/blob/main/speech_to_text_translator_using_hugging_face_models.ipynb\" target=\"_parent\"><img src=\"https://colab.research.google.com/assets/colab-badge.svg\" alt=\"Open In Colab\"/></a>"
      ]
    },
    {
      "cell_type": "code",
      "source": [
        " pip install transformers librosa torch"
      ],
      "metadata": {
        "colab": {
          "base_uri": "https://localhost:8080/"
        },
        "id": "BEjMOJZLxdLq",
        "outputId": "84ede5d0-8231-4591-85e5-c0783032848a"
      },
      "execution_count": 10,
      "outputs": [
        {
          "output_type": "stream",
          "name": "stdout",
          "text": [
            "Requirement already satisfied: transformers in /usr/local/lib/python3.10/dist-packages (4.47.1)\n",
            "Requirement already satisfied: librosa in /usr/local/lib/python3.10/dist-packages (0.10.2.post1)\n",
            "Requirement already satisfied: torch in /usr/local/lib/python3.10/dist-packages (2.5.1+cu121)\n",
            "Requirement already satisfied: filelock in /usr/local/lib/python3.10/dist-packages (from transformers) (3.16.1)\n",
            "Requirement already satisfied: huggingface-hub<1.0,>=0.24.0 in /usr/local/lib/python3.10/dist-packages (from transformers) (0.27.0)\n",
            "Requirement already satisfied: numpy>=1.17 in /usr/local/lib/python3.10/dist-packages (from transformers) (1.26.4)\n",
            "Requirement already satisfied: packaging>=20.0 in /usr/local/lib/python3.10/dist-packages (from transformers) (24.2)\n",
            "Requirement already satisfied: pyyaml>=5.1 in /usr/local/lib/python3.10/dist-packages (from transformers) (6.0.2)\n",
            "Requirement already satisfied: regex!=2019.12.17 in /usr/local/lib/python3.10/dist-packages (from transformers) (2024.11.6)\n",
            "Requirement already satisfied: requests in /usr/local/lib/python3.10/dist-packages (from transformers) (2.32.3)\n",
            "Requirement already satisfied: tokenizers<0.22,>=0.21 in /usr/local/lib/python3.10/dist-packages (from transformers) (0.21.0)\n",
            "Requirement already satisfied: safetensors>=0.4.1 in /usr/local/lib/python3.10/dist-packages (from transformers) (0.4.5)\n",
            "Requirement already satisfied: tqdm>=4.27 in /usr/local/lib/python3.10/dist-packages (from transformers) (4.67.1)\n",
            "Requirement already satisfied: audioread>=2.1.9 in /usr/local/lib/python3.10/dist-packages (from librosa) (3.0.1)\n",
            "Requirement already satisfied: scipy>=1.2.0 in /usr/local/lib/python3.10/dist-packages (from librosa) (1.13.1)\n",
            "Requirement already satisfied: scikit-learn>=0.20.0 in /usr/local/lib/python3.10/dist-packages (from librosa) (1.6.0)\n",
            "Requirement already satisfied: joblib>=0.14 in /usr/local/lib/python3.10/dist-packages (from librosa) (1.4.2)\n",
            "Requirement already satisfied: decorator>=4.3.0 in /usr/local/lib/python3.10/dist-packages (from librosa) (4.4.2)\n",
            "Requirement already satisfied: numba>=0.51.0 in /usr/local/lib/python3.10/dist-packages (from librosa) (0.60.0)\n",
            "Requirement already satisfied: soundfile>=0.12.1 in /usr/local/lib/python3.10/dist-packages (from librosa) (0.12.1)\n",
            "Requirement already satisfied: pooch>=1.1 in /usr/local/lib/python3.10/dist-packages (from librosa) (1.8.2)\n",
            "Requirement already satisfied: soxr>=0.3.2 in /usr/local/lib/python3.10/dist-packages (from librosa) (0.5.0.post1)\n",
            "Requirement already satisfied: typing-extensions>=4.1.1 in /usr/local/lib/python3.10/dist-packages (from librosa) (4.12.2)\n",
            "Requirement already satisfied: lazy-loader>=0.1 in /usr/local/lib/python3.10/dist-packages (from librosa) (0.4)\n",
            "Requirement already satisfied: msgpack>=1.0 in /usr/local/lib/python3.10/dist-packages (from librosa) (1.1.0)\n",
            "Requirement already satisfied: networkx in /usr/local/lib/python3.10/dist-packages (from torch) (3.4.2)\n",
            "Requirement already satisfied: jinja2 in /usr/local/lib/python3.10/dist-packages (from torch) (3.1.4)\n",
            "Requirement already satisfied: fsspec in /usr/local/lib/python3.10/dist-packages (from torch) (2024.10.0)\n",
            "Requirement already satisfied: sympy==1.13.1 in /usr/local/lib/python3.10/dist-packages (from torch) (1.13.1)\n",
            "Requirement already satisfied: mpmath<1.4,>=1.1.0 in /usr/local/lib/python3.10/dist-packages (from sympy==1.13.1->torch) (1.3.0)\n",
            "Requirement already satisfied: llvmlite<0.44,>=0.43.0dev0 in /usr/local/lib/python3.10/dist-packages (from numba>=0.51.0->librosa) (0.43.0)\n",
            "Requirement already satisfied: platformdirs>=2.5.0 in /usr/local/lib/python3.10/dist-packages (from pooch>=1.1->librosa) (4.3.6)\n",
            "Requirement already satisfied: charset-normalizer<4,>=2 in /usr/local/lib/python3.10/dist-packages (from requests->transformers) (3.4.0)\n",
            "Requirement already satisfied: idna<4,>=2.5 in /usr/local/lib/python3.10/dist-packages (from requests->transformers) (3.10)\n",
            "Requirement already satisfied: urllib3<3,>=1.21.1 in /usr/local/lib/python3.10/dist-packages (from requests->transformers) (2.2.3)\n",
            "Requirement already satisfied: certifi>=2017.4.17 in /usr/local/lib/python3.10/dist-packages (from requests->transformers) (2024.12.14)\n",
            "Requirement already satisfied: threadpoolctl>=3.1.0 in /usr/local/lib/python3.10/dist-packages (from scikit-learn>=0.20.0->librosa) (3.5.0)\n",
            "Requirement already satisfied: cffi>=1.0 in /usr/local/lib/python3.10/dist-packages (from soundfile>=0.12.1->librosa) (1.17.1)\n",
            "Requirement already satisfied: MarkupSafe>=2.0 in /usr/local/lib/python3.10/dist-packages (from jinja2->torch) (3.0.2)\n",
            "Requirement already satisfied: pycparser in /usr/local/lib/python3.10/dist-packages (from cffi>=1.0->soundfile>=0.12.1->librosa) (2.22)\n"
          ]
        }
      ]
    },
    {
      "source": [
        "from transformers import AutoProcessor, AutoModelForSpeechSeq2Seq, AutoTokenizer, AutoModelForSeq2SeqLM\n",
        "import librosa\n",
        "import torch\n",
        "\n",
        "def preprocess_audio(audio_path):\n",
        "    audio, sample_rate = librosa.load(audio_path, sr=16000)\n",
        "    return torch.tensor(audio), sample_rate\n",
        "\n",
        "def speech_to_text(audio_path):\n",
        "    print(\"Converting speech to text...\")\n",
        "    processor = AutoProcessor.from_pretrained(\"openai/whisper-base\")\n",
        "    model = AutoModelForSpeechSeq2Seq.from_pretrained(\"openai/whisper-base\")\n",
        "\n",
        "    audio, sample_rate = preprocess_audio(audio_path)\n",
        "    inputs = processor(audio, sampling_rate=sample_rate, return_tensors=\"pt\")\n",
        "\n",
        "    with torch.no_grad():\n",
        "        generated_ids = model.generate(inputs[\"input_features\"])\n",
        "\n",
        "    transcription = processor.batch_decode(generated_ids, skip_special_tokens=True)\n",
        "    return transcription[0]\n",
        "\n",
        "def translate_text_hindi(text, target_language=\"hindi\"):\n",
        "    print(\"Translating text to\", target_language, \"...\")\n",
        "    tokenizer = AutoTokenizer.from_pretrained(\"Helsinki-NLP/opus-mt-en-hi\")\n",
        "    model = AutoModelForSeq2SeqLM.from_pretrained(\"Helsinki-NLP/opus-mt-en-hi\")\n",
        "\n",
        "    inputs = tokenizer.encode(text, return_tensors=\"pt\", padding=True)\n",
        "    outputs = model.generate(inputs)\n",
        "    translation = tokenizer.decode(outputs[0], skip_special_tokens=True)\n",
        "    return translation\n",
        "\n",
        "def translate_text_french(text, target_language=\"french\"):\n",
        "    print(\"Translating text to\", target_language, \"...\")\n",
        "    tokenizer = AutoTokenizer.from_pretrained(\"Helsinki-NLP/opus-mt-en-fr\")\n",
        "    model = AutoModelForSeq2SeqLM.from_pretrained(\"Helsinki-NLP/opus-mt-en-fr\")\n",
        "\n",
        "    inputs = tokenizer.encode(text, return_tensors=\"pt\", padding=True)\n",
        "    outputs = model.generate(inputs)\n",
        "    translation = tokenizer.decode(outputs[0], skip_special_tokens=True)\n",
        "    return translation\n",
        "\n",
        "def translate_text_spanich(text, target_language=\"spanich\"):\n",
        "    print(\"Translating text to\", target_language, \"...\")\n",
        "    tokenizer = AutoTokenizer.from_pretrained(\"Helsinki-NLP/opus-mt-en-es\")\n",
        "    model = AutoModelForSeq2SeqLM.from_pretrained(\"Helsinki-NLP/opus-mt-en-es\")\n",
        "\n",
        "    inputs = tokenizer.encode(text, return_tensors=\"pt\", padding=True)\n",
        "    outputs = model.generate(inputs)\n",
        "    translation = tokenizer.decode(outputs[0], skip_special_tokens=True)\n",
        "    return translation\n",
        "\n",
        "def translate_text_japanese(text, target_language=\"japanese\"):\n",
        "    print(\"Translating text to\", target_language, \"...\")\n",
        "    tokenizer = AutoTokenizer.from_pretrained(\"Helsinki-NLP/opus-mt-en-jap\")\n",
        "    model = AutoModelForSeq2SeqLM.from_pretrained(\"Helsinki-NLP/opus-mt-en-jap\")\n",
        "\n",
        "    inputs = tokenizer.encode(text, return_tensors=\"pt\", padding=True)\n",
        "    outputs = model.generate(inputs)\n",
        "    translation = tokenizer.decode(outputs[0], skip_special_tokens=True)\n",
        "    return translation\n",
        "\n",
        "\n",
        "\n",
        "if __name__ == \"__main__\":\n",
        "    audio_file_path = \"village dialogue.wav\"\n",
        "    text = speech_to_text(audio_file_path)\n",
        "    lang = input(\"Enter the language:\")\n",
        "    if lang == \"hindi\":\n",
        "        target_lang = \"hindi\"\n",
        "        translated_text = translate_text_hindi(text, target_lang)\n",
        "        print(\"\\nTranscription:\", text)\n",
        "        print(\"\\nTranslated text:\", translated_text)\n",
        "\n",
        "    elif lang == \"spanich\":\n",
        "        target_lang = \"spanich\"\n",
        "        translated_text = translate_text_spanich(text, target_lang)\n",
        "        print(\"\\nTranscription:\", text)\n",
        "        print(\"\\nTranslated text:\", translated_text)\n",
        "\n",
        "    elif lang == \"japanese\":\n",
        "        target_lang = \"japanese\"\n",
        "        translated_text = translate_text_tamil(text, target_lang)\n",
        "        print(\"\\nTranscription:\", text)\n",
        "        print(\"\\nTranslated text:\", translated_text)\n",
        "\n",
        "    else:\n",
        "        target_lang = \"french\"\n",
        "        translated_text = translate_text_french(text, target_lang)\n",
        "        print(\"\\nTranscription:\", text)\n",
        "        print(\"\\nTranslated text:\", translated_text)"
      ],
      "cell_type": "code",
      "metadata": {
        "colab": {
          "base_uri": "https://localhost:8080/"
        },
        "id": "jQp9vizu1jui",
        "outputId": "8c3b6abe-3406-4f95-c18a-26c2aa77224c"
      },
      "execution_count": 19,
      "outputs": [
        {
          "output_type": "stream",
          "name": "stdout",
          "text": [
            "Converting speech to text...\n",
            "Enter the language:hindi\n",
            "Translating text to hindi ...\n",
            "\n",
            "Transcription:  I've never been out of the village before. I've never been out of the village before. But this time, I'm truly free.\n",
            "\n",
            "Translated text: मैं पहले गांव से बाहर कभी नहीं किया गया है. मैं गांव से पहले कभी नहीं किया गया है. लेकिन इस बार, मैं वास्तव में स्वतंत्र हूँ.\n"
          ]
        }
      ]
    }
  ]
}